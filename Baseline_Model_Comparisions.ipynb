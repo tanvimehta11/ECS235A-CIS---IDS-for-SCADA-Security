{
 "cells": [
  {
   "cell_type": "markdown",
   "id": "3777fbcb",
   "metadata": {},
   "source": [
    "# Evaluating Machine Learning Models"
   ]
  },
  {
   "cell_type": "markdown",
   "id": "185ddef8",
   "metadata": {},
   "source": [
    "### In this notebook we analyse the gas pipeline dataset using baseline machine learning models"
   ]
  },
  {
   "cell_type": "code",
   "execution_count": 2,
   "id": "ab6b6856",
   "metadata": {},
   "outputs": [],
   "source": [
    "#Importing all the necessary libraries \n",
    "\n",
    "import requests\n",
    "from scipy.io import arff\n",
    "import pandas as pd\n",
    "from sklearn.impute import KNNImputer\n",
    "from sklearn.preprocessing import LabelEncoder\n",
    "from sklearn.model_selection import train_test_split\n",
    "from sklearn.ensemble import RandomForestClassifier\n",
    "from sklearn.metrics import classification_report, confusion_matrix, accuracy_score\n"
   ]
  },
  {
   "cell_type": "code",
   "execution_count": 3,
   "id": "561f3a63",
   "metadata": {},
   "outputs": [],
   "source": [
    "#Downloading the dataset from the website \n",
    "url = \"http://www.ece.uah.edu/~thm0009/icsdatasets/IanArffDataset.arff\"\n",
    "response = requests.get(url)"
   ]
  },
  {
   "cell_type": "code",
   "execution_count": 4,
   "id": "aa8d9115",
   "metadata": {},
   "outputs": [],
   "source": [
    "with open(\"gas_final.arff\", \"wb\") as file:\n",
    "    file.write(response.content)\n"
   ]
  },
  {
   "cell_type": "code",
   "execution_count": 5,
   "id": "b7ed3208",
   "metadata": {},
   "outputs": [],
   "source": [
    "#Loading the dataset in a arff format \n",
    "arff_file_path = \"gas_final.arff\"  \n",
    "data, meta = arff.loadarff(arff_file_path)"
   ]
  },
  {
   "cell_type": "code",
   "execution_count": 20,
   "id": "4c5f3141",
   "metadata": {},
   "outputs": [],
   "source": [
    "#Loading the dataset \n",
    "df = pd.DataFrame(data)"
   ]
  },
  {
   "cell_type": "code",
   "execution_count": 21,
   "id": "a9cad8a6",
   "metadata": {},
   "outputs": [
    {
     "name": "stdout",
     "output_type": "stream",
     "text": [
      "CSV file saved at: gas_final.csv\n"
     ]
    }
   ],
   "source": [
    "#Converting the dataset to a csv format \n",
    "csv_file_path = \"gas_final.csv\"  \n",
    "df.to_csv(csv_file_path, index=False)\n",
    "\n",
    "print(f\"CSV file saved at: {csv_file_path}\")"
   ]
  },
  {
   "cell_type": "code",
   "execution_count": 22,
   "id": "8b966ff0",
   "metadata": {},
   "outputs": [
    {
     "name": "stdout",
     "output_type": "stream",
     "text": [
      "   address  function  length  setpoint   gain  reset rate  deadband  \\\n",
      "0      4.0       3.0    16.0       NaN    NaN         NaN       NaN   \n",
      "1      4.0       3.0    46.0       NaN    NaN         NaN       NaN   \n",
      "2      4.0      16.0    90.0      10.0  115.0         0.2       0.5   \n",
      "3      4.0      16.0    16.0       NaN    NaN         NaN       NaN   \n",
      "4      4.0       3.0    16.0       NaN    NaN         NaN       NaN   \n",
      "5      4.0       3.0    46.0       NaN    NaN         NaN       NaN   \n",
      "6      4.0      16.0    90.0      10.0  115.0         0.2       0.5   \n",
      "7      4.0      16.0    16.0       NaN    NaN         NaN       NaN   \n",
      "8      4.0       3.0    16.0       NaN    NaN         NaN       NaN   \n",
      "9      4.0       3.0    46.0       NaN    NaN         NaN       NaN   \n",
      "\n",
      "   cycle time  rate  system mode  control scheme  pump  solenoid  \\\n",
      "0         NaN   NaN          NaN             NaN   NaN       NaN   \n",
      "1         NaN   NaN          NaN             NaN   NaN       NaN   \n",
      "2         1.0   0.0          0.0             1.0   0.0       0.0   \n",
      "3         NaN   NaN          NaN             NaN   NaN       NaN   \n",
      "4         NaN   NaN          NaN             NaN   NaN       NaN   \n",
      "5         NaN   NaN          NaN             NaN   NaN       NaN   \n",
      "6         1.0   0.0          0.0             1.0   0.0       0.0   \n",
      "7         NaN   NaN          NaN             NaN   NaN       NaN   \n",
      "8         NaN   NaN          NaN             NaN   NaN       NaN   \n",
      "9         NaN   NaN          NaN             NaN   NaN       NaN   \n",
      "\n",
      "   pressure measurement  crc rate command response          time  \\\n",
      "0                   NaN   12869.0             b'1'  1.418682e+09   \n",
      "1              0.689655   12356.0             b'0'  1.418682e+09   \n",
      "2                   NaN   17219.0             b'1'  1.418682e+09   \n",
      "3                   NaN   17718.0             b'0'  1.418682e+09   \n",
      "4                   NaN   12869.0             b'1'  1.418682e+09   \n",
      "5              0.666667   14393.0             b'0'  1.418682e+09   \n",
      "6                   NaN   17219.0             b'1'  1.418682e+09   \n",
      "7                   NaN   17718.0             b'0'  1.418682e+09   \n",
      "8                   NaN   12869.0             b'1'  1.418682e+09   \n",
      "9              0.701149   17221.0             b'0'  1.418682e+09   \n",
      "\n",
      "  binary result categorized result specific result  \n",
      "0          b'0'               b'0'            b'0'  \n",
      "1          b'0'               b'0'            b'0'  \n",
      "2          b'0'               b'0'            b'0'  \n",
      "3          b'0'               b'0'            b'0'  \n",
      "4          b'0'               b'0'            b'0'  \n",
      "5          b'0'               b'0'            b'0'  \n",
      "6          b'0'               b'0'            b'0'  \n",
      "7          b'0'               b'0'            b'0'  \n",
      "8          b'0'               b'0'            b'0'  \n",
      "9          b'0'               b'0'            b'0'  \n"
     ]
    }
   ],
   "source": [
    "#Displaying a couple of rows of the dataset\n",
    "print(df.head(10))"
   ]
  },
  {
   "cell_type": "code",
   "execution_count": 23,
   "id": "ca6db027",
   "metadata": {},
   "outputs": [
    {
     "name": "stdout",
     "output_type": "stream",
     "text": [
      "['address', 'function', 'length', 'setpoint', 'gain', 'reset rate', 'deadband', 'cycle time', 'rate', 'system mode', 'control scheme', 'pump', 'solenoid', 'pressure measurement', 'crc rate', 'command response', 'time', 'binary result', 'categorized result', 'specific result']\n"
     ]
    }
   ],
   "source": [
    "print(df.columns.tolist())"
   ]
  },
  {
   "cell_type": "code",
   "execution_count": 28,
   "id": "7fa44e31",
   "metadata": {},
   "outputs": [
    {
     "name": "stdout",
     "output_type": "stream",
     "text": [
      "address                 float64\n",
      "function                float64\n",
      "length                  float64\n",
      "setpoint                float64\n",
      "gain                    float64\n",
      "reset rate              float64\n",
      "deadband                float64\n",
      "cycle time              float64\n",
      "rate                    float64\n",
      "system mode             float64\n",
      "control scheme          float64\n",
      "pump                    float64\n",
      "solenoid                float64\n",
      "pressure measurement    float64\n",
      "crc rate                float64\n",
      "command response         object\n",
      "time                    float64\n",
      "binary result            object\n",
      "categorized result       object\n",
      "specific result          object\n",
      "dtype: object\n"
     ]
    }
   ],
   "source": [
    "print(df.dtypes)"
   ]
  },
  {
   "cell_type": "code",
   "execution_count": 29,
   "id": "70056c36",
   "metadata": {},
   "outputs": [
    {
     "name": "stdout",
     "output_type": "stream",
     "text": [
      "address                      0\n",
      "function                     0\n",
      "length                       0\n",
      "setpoint                210528\n",
      "gain                    210528\n",
      "reset rate              210528\n",
      "deadband                210528\n",
      "cycle time              210528\n",
      "rate                    210528\n",
      "system mode             210528\n",
      "control scheme          210528\n",
      "pump                    210528\n",
      "solenoid                210528\n",
      "pressure measurement    205740\n",
      "crc rate                     0\n",
      "command response             0\n",
      "time                         0\n",
      "binary result                0\n",
      "categorized result           0\n",
      "specific result              0\n",
      "dtype: int64\n"
     ]
    }
   ],
   "source": [
    "#Checking the number of null values in the dataset\n",
    "print(df.isnull().sum())"
   ]
  },
  {
   "cell_type": "code",
   "execution_count": 30,
   "id": "47c392e3",
   "metadata": {},
   "outputs": [
    {
     "name": "stdout",
     "output_type": "stream",
     "text": [
      "                         count unique   top    freq  \\\n",
      "address               274628.0    NaN   NaN     NaN   \n",
      "function              274628.0    NaN   NaN     NaN   \n",
      "length                274628.0    NaN   NaN     NaN   \n",
      "setpoint               64100.0    NaN   NaN     NaN   \n",
      "gain                   64100.0    NaN   NaN     NaN   \n",
      "reset rate             64100.0    NaN   NaN     NaN   \n",
      "deadband               64100.0    NaN   NaN     NaN   \n",
      "cycle time             64100.0    NaN   NaN     NaN   \n",
      "rate                   64100.0    NaN   NaN     NaN   \n",
      "system mode            64100.0    NaN   NaN     NaN   \n",
      "control scheme         64100.0    NaN   NaN     NaN   \n",
      "pump                   64100.0    NaN   NaN     NaN   \n",
      "solenoid               64100.0    NaN   NaN     NaN   \n",
      "pressure measurement   68888.0    NaN   NaN     NaN   \n",
      "crc rate              274628.0    NaN   NaN     NaN   \n",
      "command response        274628      2  b'1'  137615   \n",
      "time                  274628.0    NaN   NaN     NaN   \n",
      "binary result           274628      2  b'0'  214580   \n",
      "categorized result      274628      8  b'0'  214580   \n",
      "specific result         274628     36  b'0'  214580   \n",
      "\n",
      "                                                        mean  \\\n",
      "address                                             4.003758   \n",
      "function                                           11.305708   \n",
      "length                                             40.663057   \n",
      "setpoint                                           10.535523   \n",
      "gain                                              112.986771   \n",
      "reset rate                                          0.305917   \n",
      "deadband                                             0.48863   \n",
      "cycle time                                          1.050153   \n",
      "rate                                                0.012535   \n",
      "system mode                                         0.491108   \n",
      "control scheme                                      0.657535   \n",
      "pump                                                0.318222   \n",
      "solenoid                                            0.461201   \n",
      "pressure measurement  727227219777315074653070478247198720.0   \n",
      "crc rate                                        15111.603904   \n",
      "command response                                         NaN   \n",
      "time                                        1418819762.14053   \n",
      "binary result                                            NaN   \n",
      "categorized result                                       NaN   \n",
      "specific result                                          NaN   \n",
      "\n",
      "                                                           std  \\\n",
      "address                                               0.274426   \n",
      "function                                              17.52994   \n",
      "length                                               29.936157   \n",
      "setpoint                                              6.681723   \n",
      "gain                                                  8.613402   \n",
      "reset rate                                            0.080253   \n",
      "deadband                                              0.172453   \n",
      "cycle time                                            0.347494   \n",
      "rate                                                  0.087879   \n",
      "system mode                                           0.794743   \n",
      "control scheme                                        0.474538   \n",
      "pump                                                   0.46579   \n",
      "solenoid                                              0.498496   \n",
      "pressure measurement  13557434707013810830087751458199961600.0   \n",
      "crc rate                                           2714.471824   \n",
      "command response                                           NaN   \n",
      "time                                               79742.04563   \n",
      "binary result                                              NaN   \n",
      "categorized result                                         NaN   \n",
      "specific result                                            NaN   \n",
      "\n",
      "                                    min                25%              50%  \\\n",
      "address                             0.0                4.0              4.0   \n",
      "function                            0.0                3.0              3.0   \n",
      "length                             10.0               16.0             16.0   \n",
      "setpoint                            0.0               5.03             10.2   \n",
      "gain                                0.0              112.0            114.0   \n",
      "reset rate                     0.000876             0.2555           0.3026   \n",
      "deadband                       0.000051               0.34             0.48   \n",
      "cycle time                          0.0               0.89             0.93   \n",
      "rate                                0.0                0.0              0.0   \n",
      "system mode                         0.0                0.0              0.0   \n",
      "control scheme                      0.0                0.0              1.0   \n",
      "pump                                0.0                0.0              0.0   \n",
      "solenoid                            0.0                0.0              0.0   \n",
      "pressure measurement               -0.0           0.609195          3.32184   \n",
      "crc rate                           21.0            12869.0          14136.0   \n",
      "command response                    NaN                NaN              NaN   \n",
      "time                  1418682163.170388  1418748936.364759  1418819915.2246   \n",
      "binary result                       NaN                NaN              NaN   \n",
      "categorized result                  NaN                NaN              NaN   \n",
      "specific result                     NaN                NaN              NaN   \n",
      "\n",
      "                                    75%  \\\n",
      "address                             4.0   \n",
      "function                           16.0   \n",
      "length                             46.0   \n",
      "setpoint                           15.5   \n",
      "gain                              117.0   \n",
      "reset rate                       0.3484   \n",
      "deadband                           0.62   \n",
      "cycle time                         1.26   \n",
      "rate                                0.0   \n",
      "system mode                         1.0   \n",
      "control scheme                      1.0   \n",
      "pump                                1.0   \n",
      "solenoid                            1.0   \n",
      "pressure measurement            12.4483   \n",
      "crc rate                        17718.0   \n",
      "command response                    NaN   \n",
      "time                  1418888760.509239   \n",
      "binary result                       NaN   \n",
      "categorized result                  NaN   \n",
      "specific result                     NaN   \n",
      "\n",
      "                                                            max  \n",
      "address                                                    19.0  \n",
      "function                                                  171.0  \n",
      "length                                                     90.0  \n",
      "setpoint                                                   49.0  \n",
      "gain                                                      119.0  \n",
      "reset rate                                             0.998543  \n",
      "deadband                                               0.998621  \n",
      "cycle time                                              4.43391  \n",
      "rate                                                   0.999022  \n",
      "system mode                                                 2.0  \n",
      "control scheme                                              1.0  \n",
      "pump                                                        1.0  \n",
      "solenoid                                                    1.0  \n",
      "pressure measurement  336030999999999993816689781426574327808.0  \n",
      "crc rate                                                65492.0  \n",
      "command response                                            NaN  \n",
      "time                                          1418957854.165377  \n",
      "binary result                                               NaN  \n",
      "categorized result                                          NaN  \n",
      "specific result                                             NaN  \n"
     ]
    }
   ],
   "source": [
    "#Describing the data\n",
    "print(df.describe(include=\"all\").transpose())"
   ]
  },
  {
   "cell_type": "code",
   "execution_count": 24,
   "id": "7e604c9b",
   "metadata": {},
   "outputs": [],
   "source": [
    "#Printing the number of labelled outputs from all the target columns \n",
    "results_counts = df['binary result'].value_counts()"
   ]
  },
  {
   "cell_type": "code",
   "execution_count": 25,
   "id": "23679b48",
   "metadata": {},
   "outputs": [
    {
     "name": "stdout",
     "output_type": "stream",
     "text": [
      "binary result\n",
      "b'0'    214580\n",
      "b'1'     60048\n",
      "Name: count, dtype: int64\n"
     ]
    }
   ],
   "source": [
    "print(results_counts)"
   ]
  },
  {
   "cell_type": "code",
   "execution_count": 26,
   "id": "652800bb",
   "metadata": {},
   "outputs": [
    {
     "name": "stdout",
     "output_type": "stream",
     "text": [
      "categorized result\n",
      "b'0'    214580\n",
      "b'4'     20412\n",
      "b'2'     13035\n",
      "b'3'      7900\n",
      "b'1'      7753\n",
      "b'5'      4898\n",
      "b'7'      3874\n",
      "b'6'      2176\n",
      "Name: count, dtype: int64\n"
     ]
    }
   ],
   "source": [
    "results_counts_cat = df['categorized result'].value_counts()\n",
    "print(results_counts_cat)"
   ]
  },
  {
   "cell_type": "code",
   "execution_count": 27,
   "id": "7baaeb80",
   "metadata": {},
   "outputs": [
    {
     "name": "stdout",
     "output_type": "stream",
     "text": [
      "specific result\n",
      "b'0'     214580\n",
      "b'35'      2204\n",
      "b'18'      2176\n",
      "b'30'      2120\n",
      "b'27'      2079\n",
      "b'12'      2072\n",
      "b'23'      2048\n",
      "b'6'       2026\n",
      "b'34'      2010\n",
      "b'4'       1932\n",
      "b'31'      1906\n",
      "b'32'      1871\n",
      "b'28'      1858\n",
      "b'29'      1856\n",
      "b'11'      1834\n",
      "b'26'      1808\n",
      "b'8'       1798\n",
      "b'1'       1792\n",
      "b'21'      1722\n",
      "b'3'       1700\n",
      "b'14'      1676\n",
      "b'16'      1658\n",
      "b'19'      1634\n",
      "b'33'      1604\n",
      "b'13'      1594\n",
      "b'15'      1558\n",
      "b'22'      1542\n",
      "b'7'       1512\n",
      "b'10'      1474\n",
      "b'25'      1472\n",
      "b'2'       1460\n",
      "b'5'       1416\n",
      "b'17'      1414\n",
      "b'9'       1396\n",
      "b'24'      1160\n",
      "b'20'       666\n",
      "Name: count, dtype: int64\n"
     ]
    }
   ],
   "source": [
    "results_counts_spe = df['specific result'].value_counts()\n",
    "print(results_counts_spe)"
   ]
  },
  {
   "cell_type": "markdown",
   "id": "bcfc0abb",
   "metadata": {},
   "source": [
    "## Pre Processing "
   ]
  },
  {
   "cell_type": "code",
   "execution_count": 7,
   "id": "5d4ef3f1",
   "metadata": {},
   "outputs": [],
   "source": [
    "#Importing libraries \n",
    "import pandas as pd\n",
    "from sklearn.impute import KNNImputer\n",
    "from sklearn.model_selection import train_test_split\n",
    "from sklearn.preprocessing import LabelEncoder\n"
   ]
  },
  {
   "cell_type": "code",
   "execution_count": 12,
   "id": "96444f40",
   "metadata": {},
   "outputs": [],
   "source": [
    "#Defining the features and our target column \n",
    "features = ['address', 'length', 'gain', 'deadband', 'rate', 'control scheme',\n",
    "            'solenoid', 'crc rate', 'time', 'function', 'setpoint',\n",
    "            'reset rate', 'cycle time', 'system mode', 'pump', 'pressure measurement']\n",
    "target = 'categorized result'\n"
   ]
  },
  {
   "cell_type": "code",
   "execution_count": 39,
   "id": "fe6b2a6f",
   "metadata": {},
   "outputs": [
    {
     "name": "stdout",
     "output_type": "stream",
     "text": [
      "['address', 'function', 'length', 'setpoint', 'gain', 'reset rate', 'deadband', 'cycle time', 'rate', 'system mode', 'control scheme', 'pump', 'solenoid', 'pressure measurement', 'crc rate', 'command response', 'time', 'binary result', 'categorized result', 'specific result']\n"
     ]
    }
   ],
   "source": [
    "print(df.columns.tolist())"
   ]
  },
  {
   "cell_type": "code",
   "execution_count": 40,
   "id": "e189fbbf",
   "metadata": {},
   "outputs": [],
   "source": [
    "#Handle Missing Values (Imputation)\n",
    "imputer = KNNImputer(n_neighbors=5)\n",
    "df[features] = imputer.fit_transform(df[features])"
   ]
  },
  {
   "cell_type": "code",
   "execution_count": 41,
   "id": "6e621a56",
   "metadata": {},
   "outputs": [],
   "source": [
    "#Encoding Target Variable\n",
    "label_encoder = LabelEncoder()\n",
    "df[target] = label_encoder.fit_transform(df[target])"
   ]
  },
  {
   "cell_type": "code",
   "execution_count": 42,
   "id": "45da661b",
   "metadata": {},
   "outputs": [],
   "source": [
    "#Splitting Data into Training and Testing Sets\n",
    "train_data, test_data = train_test_split(df, test_size=0.33, random_state=42, stratify=df[target])"
   ]
  },
  {
   "cell_type": "code",
   "execution_count": 43,
   "id": "3c198bd4",
   "metadata": {},
   "outputs": [],
   "source": [
    "#Save Train and Test Data\n",
    "train_data.to_csv('train_data.csv', index=False)\n",
    "test_data.to_csv('test_data.csv', index=False)"
   ]
  },
  {
   "cell_type": "code",
   "execution_count": 13,
   "id": "cb6d6f0e",
   "metadata": {},
   "outputs": [],
   "source": [
    "#loading the Trainning data and Evaluating Model\n",
    "X_train = train_data[features]\n",
    "y_train = train_data[target]\n",
    "X_test = test_data[features]\n",
    "y_test = test_data[target]\n"
   ]
  },
  {
   "cell_type": "code",
   "execution_count": 63,
   "id": "088f8a5b",
   "metadata": {},
   "outputs": [
    {
     "data": {
      "text/html": [
       "<style>#sk-container-id-3 {color: black;}#sk-container-id-3 pre{padding: 0;}#sk-container-id-3 div.sk-toggleable {background-color: white;}#sk-container-id-3 label.sk-toggleable__label {cursor: pointer;display: block;width: 100%;margin-bottom: 0;padding: 0.3em;box-sizing: border-box;text-align: center;}#sk-container-id-3 label.sk-toggleable__label-arrow:before {content: \"▸\";float: left;margin-right: 0.25em;color: #696969;}#sk-container-id-3 label.sk-toggleable__label-arrow:hover:before {color: black;}#sk-container-id-3 div.sk-estimator:hover label.sk-toggleable__label-arrow:before {color: black;}#sk-container-id-3 div.sk-toggleable__content {max-height: 0;max-width: 0;overflow: hidden;text-align: left;background-color: #f0f8ff;}#sk-container-id-3 div.sk-toggleable__content pre {margin: 0.2em;color: black;border-radius: 0.25em;background-color: #f0f8ff;}#sk-container-id-3 input.sk-toggleable__control:checked~div.sk-toggleable__content {max-height: 200px;max-width: 100%;overflow: auto;}#sk-container-id-3 input.sk-toggleable__control:checked~label.sk-toggleable__label-arrow:before {content: \"▾\";}#sk-container-id-3 div.sk-estimator input.sk-toggleable__control:checked~label.sk-toggleable__label {background-color: #d4ebff;}#sk-container-id-3 div.sk-label input.sk-toggleable__control:checked~label.sk-toggleable__label {background-color: #d4ebff;}#sk-container-id-3 input.sk-hidden--visually {border: 0;clip: rect(1px 1px 1px 1px);clip: rect(1px, 1px, 1px, 1px);height: 1px;margin: -1px;overflow: hidden;padding: 0;position: absolute;width: 1px;}#sk-container-id-3 div.sk-estimator {font-family: monospace;background-color: #f0f8ff;border: 1px dotted black;border-radius: 0.25em;box-sizing: border-box;margin-bottom: 0.5em;}#sk-container-id-3 div.sk-estimator:hover {background-color: #d4ebff;}#sk-container-id-3 div.sk-parallel-item::after {content: \"\";width: 100%;border-bottom: 1px solid gray;flex-grow: 1;}#sk-container-id-3 div.sk-label:hover label.sk-toggleable__label {background-color: #d4ebff;}#sk-container-id-3 div.sk-serial::before {content: \"\";position: absolute;border-left: 1px solid gray;box-sizing: border-box;top: 0;bottom: 0;left: 50%;z-index: 0;}#sk-container-id-3 div.sk-serial {display: flex;flex-direction: column;align-items: center;background-color: white;padding-right: 0.2em;padding-left: 0.2em;position: relative;}#sk-container-id-3 div.sk-item {position: relative;z-index: 1;}#sk-container-id-3 div.sk-parallel {display: flex;align-items: stretch;justify-content: center;background-color: white;position: relative;}#sk-container-id-3 div.sk-item::before, #sk-container-id-3 div.sk-parallel-item::before {content: \"\";position: absolute;border-left: 1px solid gray;box-sizing: border-box;top: 0;bottom: 0;left: 50%;z-index: -1;}#sk-container-id-3 div.sk-parallel-item {display: flex;flex-direction: column;z-index: 1;position: relative;background-color: white;}#sk-container-id-3 div.sk-parallel-item:first-child::after {align-self: flex-end;width: 50%;}#sk-container-id-3 div.sk-parallel-item:last-child::after {align-self: flex-start;width: 50%;}#sk-container-id-3 div.sk-parallel-item:only-child::after {width: 0;}#sk-container-id-3 div.sk-dashed-wrapped {border: 1px dashed gray;margin: 0 0.4em 0.5em 0.4em;box-sizing: border-box;padding-bottom: 0.4em;background-color: white;}#sk-container-id-3 div.sk-label label {font-family: monospace;font-weight: bold;display: inline-block;line-height: 1.2em;}#sk-container-id-3 div.sk-label-container {text-align: center;}#sk-container-id-3 div.sk-container {/* jupyter's `normalize.less` sets `[hidden] { display: none; }` but bootstrap.min.css set `[hidden] { display: none !important; }` so we also need the `!important` here to be able to override the default hidden behavior on the sphinx rendered scikit-learn.org. See: https://github.com/scikit-learn/scikit-learn/issues/21755 */display: inline-block !important;position: relative;}#sk-container-id-3 div.sk-text-repr-fallback {display: none;}</style><div id=\"sk-container-id-3\" class=\"sk-top-container\"><div class=\"sk-text-repr-fallback\"><pre>RandomForestClassifier(random_state=42)</pre><b>In a Jupyter environment, please rerun this cell to show the HTML representation or trust the notebook. <br />On GitHub, the HTML representation is unable to render, please try loading this page with nbviewer.org.</b></div><div class=\"sk-container\" hidden><div class=\"sk-item\"><div class=\"sk-estimator sk-toggleable\"><input class=\"sk-toggleable__control sk-hidden--visually\" id=\"sk-estimator-id-3\" type=\"checkbox\" checked><label for=\"sk-estimator-id-3\" class=\"sk-toggleable__label sk-toggleable__label-arrow\">RandomForestClassifier</label><div class=\"sk-toggleable__content\"><pre>RandomForestClassifier(random_state=42)</pre></div></div></div></div></div>"
      ],
      "text/plain": [
       "RandomForestClassifier(random_state=42)"
      ]
     },
     "execution_count": 63,
     "metadata": {},
     "output_type": "execute_result"
    }
   ],
   "source": [
    "#Training Random Forest Classifier\n",
    "rf_model = RandomForestClassifier(random_state=42)\n",
    "rf_model.fit(X_train, y_train)"
   ]
  },
  {
   "cell_type": "code",
   "execution_count": 64,
   "id": "923ca207",
   "metadata": {},
   "outputs": [],
   "source": [
    "y_pred = rf_model.predict(X_test)"
   ]
  },
  {
   "cell_type": "code",
   "execution_count": 67,
   "id": "22fa34bb",
   "metadata": {},
   "outputs": [
    {
     "name": "stdout",
     "output_type": "stream",
     "text": [
      "Classification Report:\n",
      "              precision    recall  f1-score   support\n",
      "\n",
      "           0       0.96      0.98      0.97     70812\n",
      "           1       0.88      0.78      0.83      2559\n",
      "           2       0.93      0.81      0.86      4302\n",
      "           3       0.87      0.78      0.82      2607\n",
      "           4       0.87      0.81      0.84      6736\n",
      "           5       0.99      1.00      0.99      1616\n",
      "           6       0.85      0.80      0.82       718\n",
      "           7       1.00      0.99      0.99      1278\n",
      "\n",
      "    accuracy                           0.95     90628\n",
      "   macro avg       0.92      0.87      0.89     90628\n",
      "weighted avg       0.95      0.95      0.95     90628\n",
      "\n"
     ]
    }
   ],
   "source": [
    "print(\"Classification Report:\")\n",
    "print(classification_report(y_test, y_pred))"
   ]
  },
  {
   "cell_type": "code",
   "execution_count": 68,
   "id": "7279bd3d",
   "metadata": {},
   "outputs": [
    {
     "name": "stdout",
     "output_type": "stream",
     "text": [
      "\n",
      "Confusion Matrix:\n",
      "[[69641    27    62   243   764     0    75     0]\n",
      " [  362  1988   209     0     0     0     0     0]\n",
      " [  583   243  3476     0     0     0     0     0]\n",
      " [  491     0     0  2033    74     0     9     0]\n",
      " [ 1179     0     0    65  5471     0    21     0]\n",
      " [    0     0     0     0     0  1616     0     0]\n",
      " [  129     0     0     7     9     0   573     0]\n",
      " [    0     0     0     0     0    19     0  1259]]\n"
     ]
    }
   ],
   "source": [
    "print(\"\\nConfusion Matrix:\")\n",
    "print(confusion_matrix(y_test, y_pred))"
   ]
  },
  {
   "cell_type": "code",
   "execution_count": 69,
   "id": "bcb3fc43",
   "metadata": {},
   "outputs": [
    {
     "name": "stdout",
     "output_type": "stream",
     "text": [
      "\n",
      "Accuracy Score:\n",
      "0.9495630489473452\n"
     ]
    }
   ],
   "source": [
    "print(\"\\nAccuracy Score:\")\n",
    "print(accuracy_score(y_test, y_pred))"
   ]
  },
  {
   "cell_type": "markdown",
   "id": "80ec9f51",
   "metadata": {},
   "source": [
    "## Modeling and Results "
   ]
  },
  {
   "cell_type": "code",
   "execution_count": 3,
   "id": "3ff47c37",
   "metadata": {},
   "outputs": [],
   "source": [
    "#Importing libraries \n",
    "from sklearn.svm import SVC\n",
    "from sklearn.ensemble import GradientBoostingClassifier\n",
    "from sklearn.neural_network import MLPClassifier\n",
    "from sklearn.metrics import accuracy_score, precision_score, recall_score, f1_score\n",
    "import matplotlib.pyplot as plt"
   ]
  },
  {
   "cell_type": "code",
   "execution_count": 4,
   "id": "998fcc35",
   "metadata": {},
   "outputs": [],
   "source": [
    "# Helper function to evaluate models\n",
    "def evaluate_model(model, X_train, y_train, X_test, y_test, model_name):\n",
    "    model.fit(X_train, y_train)\n",
    "    y_pred = model.predict(X_test)\n",
    "    return {\n",
    "        \"Model\": model_name,\n",
    "        \"Accuracy\": accuracy_score(y_test, y_pred),\n",
    "        \"Precision\": precision_score(y_test, y_pred, average='weighted'),\n",
    "        \"Recall\": recall_score(y_test, y_pred, average='weighted'),\n",
    "        \"F1-Score\": f1_score(y_test, y_pred, average='weighted')\n",
    "    }"
   ]
  },
  {
   "cell_type": "code",
   "execution_count": null,
   "id": "79ac04a2",
   "metadata": {},
   "outputs": [],
   "source": [
    "#Loading and intialing all the baseline models\n",
    "models = [\n",
    "    (RandomForestClassifier(random_state=42), \"Random Forest\"),\n",
    "    (SVC(kernel='rbf', random_state=42), \"SVM (RBF Kernel)\"),\n",
    "    (GradientBoostingClassifier(random_state=42), \"Gradient Boosting\"),\n",
    "    (MLPClassifier(hidden_layer_sizes=(100,), max_iter=300, random_state=42), \"Neural Network\")\n",
    "]"
   ]
  },
  {
   "cell_type": "code",
   "execution_count": 73,
   "id": "7c316c8b",
   "metadata": {},
   "outputs": [
    {
     "name": "stderr",
     "output_type": "stream",
     "text": [
      "/Users/savalideshmukh/anaconda3/lib/python3.11/site-packages/sklearn/metrics/_classification.py:1469: UndefinedMetricWarning: Precision is ill-defined and being set to 0.0 in labels with no predicted samples. Use `zero_division` parameter to control this behavior.\n",
      "  _warn_prf(average, modifier, msg_start, len(result))\n",
      "/Users/savalideshmukh/anaconda3/lib/python3.11/site-packages/sklearn/metrics/_classification.py:1469: UndefinedMetricWarning: Precision is ill-defined and being set to 0.0 in labels with no predicted samples. Use `zero_division` parameter to control this behavior.\n",
      "  _warn_prf(average, modifier, msg_start, len(result))\n"
     ]
    }
   ],
   "source": [
    "#Evaluating all models\n",
    "results = []\n",
    "for model, name in models:\n",
    "    results.append(evaluate_model(model, X_train, y_train, X_test, y_test, name))\n"
   ]
  },
  {
   "cell_type": "code",
   "execution_count": 74,
   "id": "41d242f3",
   "metadata": {},
   "outputs": [],
   "source": [
    "#Creating a DataFrame for comparison\n",
    "results_df = pd.DataFrame(results)"
   ]
  },
  {
   "cell_type": "code",
   "execution_count": 75,
   "id": "e9acce16",
   "metadata": {},
   "outputs": [
    {
     "name": "stdout",
     "output_type": "stream",
     "text": [
      "Model Comparison:\n",
      "               Model  Accuracy  Precision    Recall  F1-Score\n",
      "0      Random Forest  0.949563   0.948313  0.949563  0.948424\n",
      "1   SVM (RBF Kernel)  0.781844   0.657251  0.781844  0.686619\n",
      "2  Gradient Boosting  0.894900   0.898119  0.894900  0.877766\n",
      "3     Neural Network  0.781480   0.630598  0.781480  0.685806\n"
     ]
    }
   ],
   "source": [
    "print(\"Model Comparison:\")\n",
    "print(results_df)"
   ]
  },
  {
   "cell_type": "code",
   "execution_count": 76,
   "id": "e5d91909",
   "metadata": {},
   "outputs": [
    {
     "data": {
      "image/png": "[encoded data removed]",
      "text/plain": [
       "<Figure size 1000x600 with 1 Axes>"
      ]
     },
     "metadata": {},
     "output_type": "display_data"
    }
   ],
   "source": [
    "#Plotting the comparison graph\n",
    "plt.figure(figsize=(10, 6))\n",
    "for metric in [\"Accuracy\", \"Precision\", \"Recall\", \"F1-Score\"]:\n",
    "    plt.plot(results_df[\"Model\"], results_df[metric], marker='o', label=metric)\n",
    "plt.title(\"Model Performance Comparison\")\n",
    "plt.xlabel(\"Models\")\n",
    "plt.ylabel(\"Scores\")\n",
    "plt.legend()\n",
    "plt.grid()\n",
    "plt.show()"
   ]
  },
  {
   "cell_type": "code",
   "execution_count": null,
   "id": "09cfaf9c",
   "metadata": {},
   "outputs": [],
   "source": []
  },
  {
   "cell_type": "code",
   "execution_count": null,
   "id": "05b4943f",
   "metadata": {},
   "outputs": [],
   "source": []
  }
 ],
 "metadata": {
  "kernelspec": {
   "display_name": "Python 3 (ipykernel)",
   "language": "python",
   "name": "python3"
  },
  "language_info": {
   "codemirror_mode": {
    "name": "ipython",
    "version": 3
   },
   "file_extension": ".py",
   "mimetype": "text/x-python",
   "name": "python",
   "nbconvert_exporter": "python",
   "pygments_lexer": "ipython3",
   "version": "3.11.5"
  }
 },
 "nbformat": 4,
 "nbformat_minor": 5
}
